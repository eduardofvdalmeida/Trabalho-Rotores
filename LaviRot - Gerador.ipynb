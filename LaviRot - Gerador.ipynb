{
 "cells": [
  {
   "cell_type": "markdown",
   "metadata": {},
   "source": [
    "# Compressor"
   ]
  },
  {
   "cell_type": "code",
   "execution_count": 3,
   "metadata": {
    "collapsed": false
   },
   "outputs": [],
   "source": [
    "from LaviRot import *\n",
    "import scipy as sp\n",
    "import numpy as np\n",
    "\n",
    "import scipy.linalg as la\n",
    "from scipy.integrate import odeint\n",
    "import matplotlib.pyplot as plt\n",
    "from ipywidgets import interact\n",
    "\n",
    "np.set_printoptions(precision=3, linewidth=300)\n",
    "%matplotlib inline"
   ]
  },
  {
   "cell_type": "markdown",
   "metadata": {},
   "source": [
    "For this example we will consider a compressor with shaft and impellers made from AISI 4340, which has the following properties."
   ]
  },
  {
   "cell_type": "code",
   "execution_count": 4,
   "metadata": {
    "collapsed": true
   },
   "outputs": [],
   "source": [
    "E = 205e9\n",
    "Gs = 79.5e9\n",
    "rho = 7850"
   ]
  },
  {
   "cell_type": "markdown",
   "metadata": {},
   "source": [
    "Shaft's inner and outer diameter will be:"
   ]
  },
  {
   "cell_type": "code",
   "execution_count": 5,
   "metadata": {
    "collapsed": true
   },
   "outputs": [],
   "source": [
    "si_d = 0\n",
    "so_d = 0.28"
   ]
  },
  {
   "cell_type": "markdown",
   "metadata": {},
   "source": [
    "Now we define the length for each element, starting at the first element on the left (the element that will have the thrust collar)."
   ]
  },
  {
   "cell_type": "code",
   "execution_count": 6,
   "metadata": {
    "collapsed": false
   },
   "outputs": [],
   "source": [
    "L = [0.1, # thrust collar\n",
    "    0.152,\n",
    "    0.152, # 0 probe\n",
    "    0.1075, # 0 bearing\n",
    "    0.1075,\n",
    "    0.2,\n",
    "    0.057,\n",
    "    0.0983, # 0 impeller\n",
    "    0.25018, # 1 impeller\n",
    "    0.25018, # 2 impeller\n",
    "    0.25018, # 3 impeller\n",
    "    0.25018, # 4 impeller\n",
    "    0.25018, # 5 impeller\n",
    "    0.25018, # honeycomb # change diameter\n",
    "    0.25018,\n",
    "    0.25018,\n",
    "    0.1783,\n",
    "    0.057, # 1 bearing\n",
    "    0.1975,\n",
    "    0.110, # 2 impeller\n",
    "    0.110, # 3 impeller\n",
    "    0.186, # 4 impeller\n",
    "    0.0945, # 5 impeller\n",
    "    0.04, # honeycomb # change diameter\n",
    "    0.0923,\n",
    "    0.0498,\n",
    "    0.0802,\n",
    "    0.2067, # 1 bearing\n",
    "    0.121,\n",
    "    0.01]\n",
    "\n",
    "SI_D = [0, # thrust collar\n",
    "    0,\n",
    "    0, # 0 probe\n",
    "    0, # 0 bearing\n",
    "    0,\n",
    "    0,\n",
    "    0,\n",
    "    0, # 0 impeller\n",
    "    0, # 1 impeller\n",
    "    0, # 2 impeller\n",
    "    0, # 3 impeller\n",
    "    0, # 4 impeller\n",
    "    0, # 5 impeller\n",
    "    0, # honeycomb # change diameter\n",
    "    0,\n",
    "    0,\n",
    "    0.05,\n",
    "    0.05, # 1 bearing\n",
    "    0.05,\n",
    "    0.05, # 2 impeller\n",
    "    0.05, # 3 impeller\n",
    "    0.05, # 4 impeller\n",
    "    0.05, # 5 impeller\n",
    "    0.05, # honeycomb # change diameter\n",
    "    0.05,\n",
    "    0.05,\n",
    "    0.05,\n",
    "    0.05, # 1 bearing\n",
    "    0.05,\n",
    "    0.05]\n",
    "\n",
    "SO_D = [0.56, # thrust collar\n",
    "    0.28,\n",
    "    0.28, # 0 probe\n",
    "    0.28, # 0 bearing\n",
    "    0.28,\n",
    "    0.28,\n",
    "    0.41,\n",
    "    0.5159, # 0 impeller\n",
    "    0.5159, # 1 impeller\n",
    "    0.5159, # 2 impeller\n",
    "    0.5159, # 3 impeller\n",
    "    0.5159, # 4 impeller\n",
    "    0.5159, # 5 impeller\n",
    "    0.5159, # honeycomb # change diameter\n",
    "    0.5159,\n",
    "    0.5159,\n",
    "    0.5159,\n",
    "    0.41, # 1 bearing\n",
    "    0.28,\n",
    "    0.28, # 2 impeller\n",
    "    0.28, # 3 impeller\n",
    "    0.28, # 4 impeller\n",
    "    0.225, # 5 impeller\n",
    "    0.205, # honeycomb # change diameter\n",
    "    0.205,\n",
    "    0.192,\n",
    "    0.192,\n",
    "    0.1802, # 1 bearing\n",
    "    0.173,\n",
    "    0.166]\n",
    "\n",
    "RHO = [7850, # thrust collar\n",
    "    7850,\n",
    "    7850, # 0 probe\n",
    "    7850, # 0 bearing\n",
    "    7850,\n",
    "    7850,\n",
    "    7850,\n",
    "    6636.7, # 0 impeller\n",
    "    6636.7, # 1 impeller\n",
    "    6636.7, # 2 impeller\n",
    "    6636.7, # 3 impeller\n",
    "    6636.7, # 4 impeller\n",
    "    6636.7, # 5 impeller\n",
    "    6636.7, # honeycomb # change diameter\n",
    "    6636.7,\n",
    "    6636.7,\n",
    "    6636.7,\n",
    "    7850, # 1 bearing\n",
    "    7850,\n",
    "    7850, # 2 impeller\n",
    "    7850, # 3 impeller\n",
    "    7850, # 4 impeller\n",
    "    7850, # 5 impeller\n",
    "    7850, # honeycomb # change diameter\n",
    "    7850,\n",
    "    7850,\n",
    "    7850,\n",
    "    7850, # 1 bearing\n",
    "    7850,\n",
    "    7850]"
   ]
  },
  {
   "cell_type": "markdown",
   "metadata": {},
   "source": [
    "The next line defines a list with the number of each element (from 0 to len(L))."
   ]
  },
  {
   "cell_type": "code",
   "execution_count": 7,
   "metadata": {
    "collapsed": false
   },
   "outputs": [],
   "source": [
    "nelem = [x for x in range(len(L))]"
   ]
  },
  {
   "cell_type": "raw",
   "metadata": {},
   "source": [
    "Now we create a list with all the shaft elements using the :ref:`ShaftElement` class. In this case we are going to consider Timoshenko beam elements (with shear and rotary inertia effects)."
   ]
  },
  {
   "cell_type": "code",
   "execution_count": 8,
   "metadata": {
    "collapsed": false
   },
   "outputs": [],
   "source": [
    "shaft_elem = [ShaftElement(n, l, si_d, so_d, E, Gs, rho,\n",
    "                           shear_effects=True,\n",
    "                           rotary_inertia=True,\n",
    "                           gyroscopic=True) for n, l in zip(nelem, L)]"
   ]
  },
  {
   "cell_type": "markdown",
   "metadata": {},
   "source": [
    "Ajustando os valores dos diametros internos, diametros externos e massa especifica para cada elemento do eixo"
   ]
  },
  {
   "cell_type": "code",
   "execution_count": 9,
   "metadata": {
    "collapsed": false
   },
   "outputs": [],
   "source": [
    "contador = sp.linspace(0, 29, 30)\n",
    "for i in contador:\n",
    "    shaft_elem[int(i)].i_d = SI_D[int(i)]\n",
    "    shaft_elem[int(i)].o_d = SO_D[int(i)]\n",
    "    shaft_elem[int(i)].rho = RHO[int(i)]"
   ]
  },
  {
   "cell_type": "raw",
   "metadata": {},
   "source": [
    "The disks are created using the :ref:`DiskElement` class."
   ]
  },
  {
   "cell_type": "code",
   "execution_count": 10,
   "metadata": {
    "collapsed": false
   },
   "outputs": [],
   "source": [
    "disk0 = DiskElement(8, RHO[int(8)], 0.02, SO_D[int(8)], 0.2)     # Rotor Core\n",
    "disk1 = DiskElement(9, RHO[int(9)], 0.02, SO_D[int(9)], 0.2)     # Rotor Core\n",
    "disk2 = DiskElement(10, RHO[int(10)], 0.02, SO_D[int(10)], 0.2)  # Rotor Core\n",
    "disk3 = DiskElement(11, RHO[int(11)], 0.02, SO_D[int(11)], 0.2)  # Rotor Core\n",
    "disk4 = DiskElement(12, RHO[int(12)], 0.02, SO_D[int(12)], 0.2)  # Rotor Core\n",
    "disk5 = DiskElement(13, RHO[int(13)], 0.02, SO_D[int(13)], 0.2)  # Rotor Core\n",
    "disk6 = DiskElement(14, RHO[int(14)], 0.02, SO_D[int(14)], 0.2)  # Rotor Core\n",
    "disk7 = DiskElement(15, RHO[int(15)], 0.02, SO_D[int(15)], 0.2)  # Rotor Core\n",
    "disk8 = DiskElement(16, RHO[int(16)], 0.02, SO_D[int(16)], 0.2)  # Rotor Core\n",
    "disk9 = DiskElement(24, RHO[int(24)], 0.02, SO_D[int(24)], 0.2)  # Fan\n",
    "disk10 = DiskElement(26, RHO[int(26)], 0.02, SO_D[int(26)], 0.2) # Aux. Exciter\n",
    "disk11 = DiskElement(28, RHO[int(28)], 0.02, SO_D[int(28)], 0.2) # Exciter\n",
    "disk12 = DiskElement(29, RHO[int(29)], 0.02, SO_D[int(29)], 0.2) # Diode Wheel"
   ]
  },
  {
   "cell_type": "markdown",
   "metadata": {},
   "source": [
    "Ajustando os valores das massas, momento de inercia e momento de inercia polar para cada carregamento imposto em seu respectivo elemento do eixo"
   ]
  },
  {
   "cell_type": "code",
   "execution_count": 11,
   "metadata": {
    "collapsed": false
   },
   "outputs": [],
   "source": [
    "disk0.m = 706.25\n",
    "disk0.Id = 82.85\n",
    "disk0.Ip = 163.86\n",
    "\n",
    "disk1.m = 1412.5\n",
    "disk1.Id = 171.23\n",
    "disk1.Ip = 327.73\n",
    "\n",
    "disk2.m = 1412.5\n",
    "disk2.Id = 171.23\n",
    "disk2.Ip = 327.73\n",
    "\n",
    "disk3.m = 1412.5\n",
    "disk3.Id = 171.23\n",
    "disk3.Ip = 327.73\n",
    "\n",
    "disk4.m = 1412.5\n",
    "disk4.Id = 171.23\n",
    "disk4.Ip = 327.73\n",
    "\n",
    "disk5.m = 1412.5\n",
    "disk5.Id = 171.23\n",
    "disk5.Ip = 327.73\n",
    "\n",
    "disk6.m = 1412.5\n",
    "disk6.Id = 171.23\n",
    "disk6.Ip = 327.73\n",
    "\n",
    "disk7.m = 1412.5\n",
    "disk7.Id = 171.23\n",
    "disk7.Ip = 327.73\n",
    "\n",
    "disk8.m = 706.25\n",
    "disk8.Id = 82.85\n",
    "disk8.Ip = 163.86\n",
    "\n",
    "disk9.m = 76.67\n",
    "disk9.Id = 2.35\n",
    "disk9.Ip = 4.59\n",
    "\n",
    "disk10.m = 82\n",
    "disk10.Id = 1.39\n",
    "disk10.Ip = 2.68\n",
    "\n",
    "disk11.m = 439.48\n",
    "disk11.Id = 18.52\n",
    "disk11.Ip = 13.69\n",
    "\n",
    "disk12.m = 48.97\n",
    "disk12.Id = 2.12\n",
    "disk12.Ip = 1.21"
   ]
  },
  {
   "cell_type": "raw",
   "metadata": {},
   "source": [
    "For the bearings we use the :ref:`BearingElement` class. We will consider a constant stifness for the bearings."
   ]
  },
  {
   "cell_type": "markdown",
   "metadata": {},
   "source": [
    "Para o obtenção dos coeficientes de rigidez e amortecimento dos mancais foi considerado uma média entre os dados provenientes de maximum clearence e minimum clearence de cada mancal, supondo que este seria uma aproximação para o ponto de operação. Em relação a velocidade, como a velocidade de operação do sistema é de 1800 rpm, 188.5 rad/s ou 30 Hz, foi considerado também uma média dos dados obtidos para as velocidades de 1650 rpm e 1987.5 rpm, disponíveis no relatório do gerador. "
   ]
  },
  {
   "cell_type": "code",
   "execution_count": 12,
   "metadata": {
    "collapsed": false
   },
   "outputs": [],
   "source": [
    "kxx0 = (2.9e8 + 2.85e8 + 2.69e8 + 2.61e8)/4 \n",
    "kxy0 = (-1.71e8 - 1.55e8 - 2.6e8 - 2.44e8)/4 \n",
    "kyx0 = (-1.17e9 - 1.13e9 - 1.32e9 - 1.26e9)/4 \n",
    "kyy0 = (3.17e9 + 2.98e9 + 4.46e9 + 4.21e9)/4 \n",
    "cxx0 = (9.26e5 + 7.83e5 + 6.58e5 + 5.45e5)/4 \n",
    "cxy0 = (-2.1e6 - 1.66e6 - 2.17e6 - 1.73e6)/4 \n",
    "cyx0 = (-2.15e6 - 1.695e6 - 2.23e6 - 1.78e6)/4 \n",
    "cyy0 = (1.39e7 + 1.11e7 + 1.57e7 + 1.25e7)/4 \n",
    "\n",
    "kxx1 = (3.2e8 + 3.05e8 + 2.9e8 + 2.82e8)/4 \n",
    "kxy1 = (-2.08e8 - 1.75e8 - 2.85e8 - 2.7e8)/4 \n",
    "kyx1 = (-1.34e9 - 1.23e9 - 1.43e9 - 1.38e9)/4 \n",
    "kyy1 = (3.79e9 + 3.29e9 + 4.89e9 + 4.64e9)/4 \n",
    "cxx1 = (9.87e5 + 8.22e5 + 7e5 + 5.8e5)/4 \n",
    "cxy1 = (-2.37e6 - 1.84e6 - 2.35e6 - 1.89e6)/4 \n",
    "cyx1 = (-2.42e6 - 1.855e6 - 2.42e6 - 1.94e6)/4 \n",
    "cyy1 = (1.59e7 + 1.21e7 + 1.7e7 + 1.36e7)/4 \n",
    "\n",
    "\n",
    "bearing0 = BearingElement(4, kxx=kxx0, kxy=kxy0, kyx=kyx0, kyy=kyy0, cxx=cxx0, cxy=cxy0, cyx=cyx0, cyy=cyy0)\n",
    "bearing1 = BearingElement(20, kxx=kxx1, kxy=kxy1, kyx=kyx1, kyy=kyy1, cxx=cxx1, cxy=cxy1, cyx=cyx1, cyy=cyy1)"
   ]
  },
  {
   "cell_type": "raw",
   "metadata": {},
   "source": [
    "Now we assemble the compressor rotor using the :ref:`Rotor` class."
   ]
  },
  {
   "cell_type": "code",
   "execution_count": 19,
   "metadata": {
    "collapsed": false
   },
   "outputs": [],
   "source": [
    "gerador = Rotor(shaft_elem,\n",
    "                   [disk0, disk1, disk2, disk3, disk4, disk5, disk6, disk7, disk8,disk9, disk10, disk11, disk12],\n",
    "                   [bearing0, bearing1])"
   ]
  },
  {
   "cell_type": "raw",
   "metadata": {},
   "source": [
    "We can now use the function :ref:`plot_rotor`."
   ]
  },
  {
   "cell_type": "code",
   "execution_count": 20,
   "metadata": {
    "collapsed": false
   },
   "outputs": [
    {
     "data": {
      "image/png": "[encoded data removed]",
      "text/plain": [
       "<matplotlib.figure.Figure at 0x29d2b4475f8>"
      ]
     },
     "execution_count": 20,
     "metadata": {},
     "output_type": "execute_result"
    }
   ],
   "source": [
    "plot_rotor(gerador)"
   ]
  },
  {
   "cell_type": "markdown",
   "metadata": {},
   "source": [
    "Now we are going to check the natural frequencies using the Campbell diagram.\n",
    "First we need to define the speed range that we want to analyze."
   ]
  },
  {
   "cell_type": "code",
   "execution_count": 21,
   "metadata": {
    "collapsed": false
   },
   "outputs": [],
   "source": [
    "speed = np.linspace(0, 500, 10)"
   ]
  },
  {
   "cell_type": "raw",
   "metadata": {},
   "source": [
    "Now we can call the :ref:`campbell` function with mult=[1, 2] to plot 1x and 2x the speed."
   ]
  },
  {
   "cell_type": "code",
   "execution_count": 22,
   "metadata": {
    "collapsed": false,
    "scrolled": false
   },
   "outputs": [
    {
     "data": {
      "image/png": "[encoded data removed]",
      "text/plain": [
       "<matplotlib.figure.Figure at 0x29d31d7ccf8>"
      ]
     },
     "execution_count": 22,
     "metadata": {},
     "output_type": "execute_result"
    }
   ],
   "source": [
    "campbell(gerador, speed, mult=[1])"
   ]
  },
  {
   "cell_type": "code",
   "execution_count": null,
   "metadata": {
    "collapsed": false
   },
   "outputs": [],
   "source": [
    "omega = sp.linspace(0, 300, 1000)\n",
    "amp = np.zeros((len(gerador.M()),len(omega)))\n",
    "c = 0\n",
    "for w in omega:\n",
    "    FREQ = -w**2*gerador.M() + gerador.C()*w*1j + gerador.G()*1j*w**2 + gerador.K()\n",
    "    evalues, evects = la.eig(FREQ)\n",
    "    wn = abs(evalues)\n",
    "    elem = len(wn) - 1\n",
    "    contador2 = sp.linspace(0, elem , len(wn))\n",
    "    for o in contador2:\n",
    "        amp[int(o),c] = wn[int(o)]\n",
    "    c = c + 1"
   ]
  },
  {
   "cell_type": "code",
   "execution_count": null,
   "metadata": {
    "collapsed": false
   },
   "outputs": [],
   "source": [
    "# Plota a Resposta em frequencia da amplitude para os 4 graus de liberdade de um nó a ser escolhido, \n",
    "# que no caso pode ser definido pela função ANo\n",
    "\n",
    "ANo = 8\n",
    "\n",
    "AEqNo = 4*ANo\n",
    "\n",
    "plt.plot(omega, amp[AEqNo,:])\n",
    "plt.ylabel('Amplitude do primeiro DOF')\n",
    "plt.xlabel('w')\n",
    "plt.show()\n",
    "\n",
    "plt.plot(omega, amp[AEqNo+1,:])\n",
    "plt.ylabel('Amplitude do segundo DOF')\n",
    "plt.xlabel('w')\n",
    "plt.show()\n",
    "\n",
    "plt.plot(omega, amp[AEqNo+2,:])\n",
    "plt.ylabel('Amplitude do terceiro DOF')\n",
    "plt.xlabel('w')\n",
    "plt.show()\n",
    "\n",
    "plt.plot(omega, amp[AEqNo+3,:])\n",
    "plt.ylabel('Amplitude do quarto DOF')\n",
    "plt.xlabel('w')\n",
    "plt.show()"
   ]
  },
  {
   "cell_type": "code",
   "execution_count": null,
   "metadata": {
    "collapsed": false
   },
   "outputs": [],
   "source": [
    "def resptemp(x, t): # Função que monta o sistema para solução temporal com a velocidade de operação da máquina em rad/s\n",
    "    w = 188.5\n",
    "    A = gerador.A()\n",
    "    f = np.zeros(len(A[:,0]))\n",
    "    # Inserindo desbalaceamento nó 8, lembrando que o primeiro nó é o nó 0\n",
    "    f[156] = 0.03*sp.cos(w*t)\n",
    "    f[157] = 0.03*sp.sin(w*t)\n",
    "    f[158] = 0.03*sp.cos(w*t)\n",
    "    f[159] = 0.03*sp.sin(w*t)\n",
    "    # Inserindo desbalaceamento nó 16, lembrando que o primeiro nó é o nó 0\n",
    "    f[188] = 0.03*sp.cos(w*t)\n",
    "    f[189] = 0.03*sp.sin(w*t)\n",
    "    f[190] = 0.03*sp.cos(w*t)\n",
    "    f[191] = 0.03*sp.sin(w*t)\n",
    "    dxdt = A @ x + f\n",
    "    \n",
    "    return dxdt"
   ]
  },
  {
   "cell_type": "code",
   "execution_count": null,
   "metadata": {
    "collapsed": true
   },
   "outputs": [],
   "source": [
    "# Condições iniciais\n",
    "# Sera suposto que o sistema se inicia do repouso, com deslocamento inicial e velocidade inicial igual a zero\n",
    "# Criar array com condições iniciais\n",
    "A = gerador.A()\n",
    "z0=np.zeros(len(A[:,0]))\n",
    "\n",
    "\n",
    "# Criar array com o tempo\n",
    "tf = 10\n",
    "t = sp.linspace(0, tf, 100)"
   ]
  },
  {
   "cell_type": "code",
   "execution_count": null,
   "metadata": {
    "collapsed": false
   },
   "outputs": [],
   "source": [
    "sol = odeint(resptemp, z0, t,)"
   ]
  },
  {
   "cell_type": "code",
   "execution_count": null,
   "metadata": {
    "collapsed": false,
    "scrolled": false
   },
   "outputs": [],
   "source": [
    "# Plota a resposta temporal para os 4 graus de liberdade de um nó a ser escolhido, que no caso pode ser definido pela função No\n",
    "\n",
    "No = 1\n",
    "\n",
    "EqNo = 4*No\n",
    "\n",
    "plt.plot(t, sol[:,EqNo],)\n",
    "plt.ylabel('x(t)')\n",
    "plt.xlabel('t')\n",
    "plt.show()\n",
    "\n",
    "plt.plot(t, sol[:,EqNo+1])\n",
    "plt.ylabel('y(t)')\n",
    "plt.xlabel('t')\n",
    "plt.show()\n",
    "\n",
    "plt.plot(t, sol[:,EqNo+2])\n",
    "plt.ylabel('thetaX(t)')\n",
    "plt.xlabel('t')\n",
    "plt.show()\n",
    "\n",
    "plt.plot(t, sol[:,EqNo+3])\n",
    "plt.ylabel('thetaY(t)')\n",
    "plt.xlabel('t')\n",
    "plt.show()"
   ]
  }
 ],
 "metadata": {
  "anaconda-cloud": {},
  "kernelspec": {
   "display_name": "Python [conda root]",
   "language": "python",
   "name": "conda-root-py"
  },
  "language_info": {
   "codemirror_mode": {
    "name": "ipython",
    "version": 3
   },
   "file_extension": ".py",
   "mimetype": "text/x-python",
   "name": "python",
   "nbconvert_exporter": "python",
   "pygments_lexer": "ipython3",
   "version": "3.5.2"
  }
 },
 "nbformat": 4,
 "nbformat_minor": 0
}
